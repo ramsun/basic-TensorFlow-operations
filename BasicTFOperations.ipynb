{
  "nbformat": 4,
  "nbformat_minor": 0,
  "metadata": {
    "colab": {
      "name": "BasicTFOperations.ipynb",
      "provenance": [],
      "collapsed_sections": []
    },
    "kernelspec": {
      "name": "python3",
      "display_name": "Python 3"
    }
  },
  "cells": [
    {
      "cell_type": "code",
      "metadata": {
        "id": "bTeTdUmqQiqK",
        "colab_type": "code",
        "colab": {}
      },
      "source": [
        "import tensorflow as tf\n",
        "import keras\n",
        "import numpy as np"
      ],
      "execution_count": 1,
      "outputs": []
    },
    {
      "cell_type": "code",
      "metadata": {
        "id": "GG2wCAwqQnUi",
        "colab_type": "code",
        "colab": {
          "base_uri": "https://localhost:8080/",
          "height": 51
        },
        "outputId": "2c536b05-bad3-4b47-b86e-a3b5297ce60b"
      },
      "source": [
        "tf_version = tf.__version__\n",
        "keras_version = keras.__version__\n",
        "print(\"current tensorflow version: \",tf_version)\n",
        "print(\"current keras version: \",keras_version)"
      ],
      "execution_count": 2,
      "outputs": [
        {
          "output_type": "stream",
          "text": [
            "current tensorflow version:  2.3.0\n",
            "current keras version:  2.4.3\n"
          ],
          "name": "stdout"
        }
      ]
    },
    {
      "cell_type": "markdown",
      "metadata": {
        "id": "hL3foSjlRx5k",
        "colab_type": "text"
      },
      "source": [
        "# Basic TensorFlow Operations\n",
        "1. Declaration\n",
        "2. Stacking\n",
        "3. Reshaping\n",
        "4. Scalar operations\n",
        "5. Associative and Distributive properties\n"
      ]
    },
    {
      "cell_type": "code",
      "metadata": {
        "id": "jIc-3PDiR2Ng",
        "colab_type": "code",
        "colab": {
          "base_uri": "https://localhost:8080/",
          "height": 54
        },
        "outputId": "e87e4b3a-19cf-4ffb-8127-ece6a3b4d3af"
      },
      "source": [
        "# Basic constant tensor declaration and addition\n",
        "\n",
        "# Make sure to define type as int64 to perform math calculation. Default = int32\n",
        "x = tf.constant([100,101,102,103,104,105,106,107,108,109], dtype = 'int64')\n",
        "# tensor can also accept numpy arrays\n",
        "numpy_array = np.array([34,28,45,67,89,93,24,49,11,7], dtype = 'int64')\n",
        "y = tf.constant(numpy_array)\n",
        "\n",
        "# Perform sum and output to notebook window\n",
        "tensor_sum = tf.add(x, y)\n",
        "\n",
        "print(\"Sum of tensors is: \", tensor_sum)"
      ],
      "execution_count": 3,
      "outputs": [
        {
          "output_type": "stream",
          "text": [
            "Sum of tensors is:  tf.Tensor([134 129 147 170 193 198 130 156 119 116], shape=(10,), dtype=int64)\n"
          ],
          "name": "stdout"
        }
      ]
    },
    {
      "cell_type": "markdown",
      "metadata": {
        "id": "bzXbBLMLcL04",
        "colab_type": "text"
      },
      "source": [
        "Shape has a weird notation in tensorflow.  Here are examples of what the shapes mean in 1D, 2D, and 3D:\n",
        "1. shape=(6,) in TF imlpies row vector of size 1 by 6 (1 row and 6 columns).\n",
        "2. shape=(2,6) in TF implies 2D tensor with 2 rows and 6 columns.\n",
        "3. shape=(3,2,6) implies a 3D matrix with 2 rows, 6 columns, and depth (z axis) of 3 (standard notation would be 2x6x3).\n",
        " "
      ]
    },
    {
      "cell_type": "code",
      "metadata": {
        "id": "z1d3bvB3SZ9A",
        "colab_type": "code",
        "colab": {
          "base_uri": "https://localhost:8080/",
          "height": 221
        },
        "outputId": "acefe995-cb87-4364-9d1d-5a2389c39c72"
      },
      "source": [
        "# Reshape a tensor with the stack command\n",
        "\n",
        "# Stack differs from concatonation since it creates a new axis for each stack \n",
        "# (stacks in the z direction for a 2D tensor, thus creating a new dimension)\n",
        "# If our tensor were 1D, stack would create a 2D tensor\n",
        "x1 = tf.constant([[1,2,3,4],[5,6,7,8]])\n",
        "x1_stack = tf.stack([x1,x1,x1,x1], axis=0)\n",
        "\n",
        "print(x1_stack)"
      ],
      "execution_count": 4,
      "outputs": [
        {
          "output_type": "stream",
          "text": [
            "tf.Tensor(\n",
            "[[[1 2 3 4]\n",
            "  [5 6 7 8]]\n",
            "\n",
            " [[1 2 3 4]\n",
            "  [5 6 7 8]]\n",
            "\n",
            " [[1 2 3 4]\n",
            "  [5 6 7 8]]\n",
            "\n",
            " [[1 2 3 4]\n",
            "  [5 6 7 8]]], shape=(4, 2, 4), dtype=int32)\n"
          ],
          "name": "stdout"
        }
      ]
    },
    {
      "cell_type": "code",
      "metadata": {
        "id": "aZ0xsIdQYOiA",
        "colab_type": "code",
        "colab": {
          "base_uri": "https://localhost:8080/",
          "height": 68
        },
        "outputId": "cd5d5e6f-f8ed-4964-965e-989df6f79040"
      },
      "source": [
        "# stacking a 2D tensor by itself makes TF think of it as a 3 dimensional tensor\n",
        "# It adds a new axis\n",
        "x1 = tf.constant([[1,2,3,4],[5,6,7,8]])\n",
        "x1_stack = tf.stack([x1], axis=0)\n",
        "\n",
        "print(x1_stack)"
      ],
      "execution_count": 5,
      "outputs": [
        {
          "output_type": "stream",
          "text": [
            "tf.Tensor(\n",
            "[[[1 2 3 4]\n",
            "  [5 6 7 8]]], shape=(1, 2, 4), dtype=int32)\n"
          ],
          "name": "stdout"
        }
      ]
    },
    {
      "cell_type": "code",
      "metadata": {
        "id": "H616tf_aftIa",
        "colab_type": "code",
        "colab": {
          "base_uri": "https://localhost:8080/",
          "height": 136
        },
        "outputId": "4dcc56a9-8bf4-45fe-9445-6ce884848cd1"
      },
      "source": [
        "# Reshape a tensor\n",
        "\n",
        "# Suppose ‘x1’ a tensor of shape (3,4).\n",
        "# reshape it into shape (6,2)\n",
        "x1 = tf.constant([[1,2,3,4],[5,6,7,8],[9,10,11,12]])\n",
        "\n",
        "# Reshape method parameters:\n",
        "# input the tensor and then new shape you want to resize to\n",
        "# new shape needs to hold the same number of elements as the original shape\n",
        "t_reshaped = tf.reshape(x1, [6,2])\n",
        "\n",
        "print(t_reshaped)"
      ],
      "execution_count": 6,
      "outputs": [
        {
          "output_type": "stream",
          "text": [
            "tf.Tensor(\n",
            "[[ 1  2]\n",
            " [ 3  4]\n",
            " [ 5  6]\n",
            " [ 7  8]\n",
            " [ 9 10]\n",
            " [11 12]], shape=(6, 2), dtype=int32)\n"
          ],
          "name": "stdout"
        }
      ]
    },
    {
      "cell_type": "code",
      "metadata": {
        "id": "_P1NauujjZQY",
        "colab_type": "code",
        "colab": {
          "base_uri": "https://localhost:8080/",
          "height": 54
        },
        "outputId": "7ec07e7f-1276-4e83-9566-52723f2ccca3"
      },
      "source": [
        "# Operations with scalar tensors\n",
        "\n",
        "# Define rank 0 tensors\n",
        "a = tf.constant(1.12)\n",
        "b = tf.constant(2.34)\n",
        "c = tf.constant(0.72)\n",
        "d = tf.constant(0.81)\n",
        "e = tf.constant(19.83)\n",
        "\n",
        "# We can perform calculation by simply using *,/,+,- operators\n",
        "# These operators simply call tf.add() and the like, so they are identical\n",
        "# Each of these operators are treated as element-wise operations on scalars,\n",
        "# which are simply rank 0 tensors in this case\n",
        "x = 1 + a/b + c/(e*e)\n",
        "s = (b-a) / (d-c)\n",
        "r = 1/((1/a)+(1/b)+(1/c)+(1/d))\n",
        "y = a*b * (1/c) * (e*e/2)\n",
        "\n",
        "print(\"x: \" , x, \"s: \", s, \"r: \", r, \"y: \", y)"
      ],
      "execution_count": 7,
      "outputs": [
        {
          "output_type": "stream",
          "text": [
            "x:  tf.Tensor(1.4804634, shape=(), dtype=float32) s:  tf.Tensor(13.555558, shape=(), dtype=float32) r:  tf.Tensor(0.25357127, shape=(), dtype=float32) y:  tf.Tensor(715.6765, shape=(), dtype=float32)\n"
          ],
          "name": "stdout"
        }
      ]
    },
    {
      "cell_type": "code",
      "metadata": {
        "id": "ODeID9IOY8tg",
        "colab_type": "code",
        "colab": {
          "base_uri": "https://localhost:8080/",
          "height": 153
        },
        "outputId": "2b525edc-6932-48e3-c44a-4d48f15ae194"
      },
      "source": [
        "#Associate and Distributive properties (Avoid Hadamard product)\n",
        "\n",
        "# Define three tensors\n",
        "A = tf.constant([[4,-2,1],[6,8,-5],[7,9,10]])\n",
        "B = tf.constant([[6,9,-4],[7,5,3],[-8,2,1]])\n",
        "C = ([-4,-5,2],[10,6,1],[3,-9,8])\n",
        "\n",
        "# @ symbol simply calls matmul as of python >= 3.5\n",
        "associative_property_LHS = A @ (B + C) \n",
        "associative_property_RHS = A @ B + A @ C\n",
        "distributive_property_LHS = (A @ B) @ C\n",
        "distributive_property_RHS = A @ (B @ C)\n",
        "\n",
        "associative_property_boolean = associative_property_LHS == associative_property_RHS\n",
        "distributive_property_boolean = distributive_property_LHS == distributive_property_RHS\n",
        "\n",
        "print(\"Associative Property:\", associative_property_boolean)\n",
        "print(\"Distributive Property:\", distributive_property_boolean)"
      ],
      "execution_count": 8,
      "outputs": [
        {
          "output_type": "stream",
          "text": [
            "Associative Property: tf.Tensor(\n",
            "[[ True  True  True]\n",
            " [ True  True  True]\n",
            " [ True  True  True]], shape=(3, 3), dtype=bool)\n",
            "Distributive Property: tf.Tensor(\n",
            "[[ True  True  True]\n",
            " [ True  True  True]\n",
            " [ True  True  True]], shape=(3, 3), dtype=bool)\n"
          ],
          "name": "stdout"
        }
      ]
    }
  ]
}